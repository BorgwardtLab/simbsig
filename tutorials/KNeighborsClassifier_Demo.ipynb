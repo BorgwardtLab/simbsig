{
 "cells": [
  {
   "cell_type": "markdown",
   "metadata": {
    "id": "KdMO6zbMbIcB"
   },
   "source": [
    "# KNeighborsClassifier Demo\n",
    "This demo illustrates how SIMBSIG can be used for Nearest Neighbors classification queries, and how the use compares to scikit-learn. "
   ]
  },
  {
   "cell_type": "code",
   "execution_count": null,
   "metadata": {},
   "outputs": [],
   "source": [
    "!pip install simbsig"
   ]
  },
  {
   "cell_type": "code",
   "execution_count": null,
   "metadata": {
    "executionInfo": {
     "elapsed": 406,
     "status": "ok",
     "timestamp": 1655370703705,
     "user": {
      "displayName": "E. R.",
      "userId": "08172683547117167723"
     },
     "user_tz": -120
    },
    "id": "7AbLEIDAaoBZ"
   },
   "outputs": [],
   "source": [
    "from simbsig.neighbors import KNeighborsClassifier\n",
    "from sklearn.neighbors import KNeighborsClassifier as KNeighborsClassifier_sk\n",
    "import h5py as h5py\n",
    "import numpy as np"
   ]
  },
  {
   "cell_type": "markdown",
   "metadata": {
    "id": "mN436qeJaqbP"
   },
   "source": [
    "## Set Parameters"
   ]
  },
  {
   "cell_type": "code",
   "execution_count": null,
   "metadata": {
    "executionInfo": {
     "elapsed": 388,
     "status": "ok",
     "timestamp": 1655370706975,
     "user": {
      "displayName": "E. R.",
      "userId": "08172683547117167723"
     },
     "user_tz": -120
    },
    "id": "YhjxgUO_b_Ib"
   },
   "outputs": [],
   "source": [
    "n_train_samples = 10\n",
    "n_classes = 3\n",
    "n_query_samples = 5\n",
    "n_dim = 2"
   ]
  },
  {
   "cell_type": "markdown",
   "metadata": {
    "id": "fInMHdVicL73"
   },
   "source": [
    "## Create Toy Data\n",
    "### numpy arrays"
   ]
  },
  {
   "cell_type": "code",
   "execution_count": null,
   "metadata": {
    "executionInfo": {
     "elapsed": 9,
     "status": "ok",
     "timestamp": 1655370757761,
     "user": {
      "displayName": "E. R.",
      "userId": "08172683547117167723"
     },
     "user_tz": -120
    },
    "id": "JnsKWphqcQDd"
   },
   "outputs": [],
   "source": [
    "# numpy arrays\n",
    "np.random.seed(42)\n",
    "X_train = np.random.uniform(low=-5, high=5, size=(n_train_samples, n_dim))\n",
    "X_query = np.random.uniform(low=-5, high=5, size=(n_query_samples, n_dim))\n",
    "y_train = np.random.randint(low=0, high=n_classes, size=(n_train_samples))"
   ]
  },
  {
   "cell_type": "markdown",
   "metadata": {},
   "source": [
    "### hdf5 files\n",
    "If you work from your computer, you can execute the statement below: Of course you can also store the data in a directory more suitable to you."
   ]
  },
  {
   "cell_type": "code",
   "execution_count": null,
   "metadata": {},
   "outputs": [],
   "source": [
    "# when working from your computer, your disk can be used to save and read data\n",
    "import os\n",
    "dataset_path = os.path.dirname(os.path.realpath(\"__file__\"))"
   ]
  },
  {
   "cell_type": "code",
   "execution_count": null,
   "metadata": {
    "executionInfo": {
     "elapsed": 1481,
     "status": "ok",
     "timestamp": 1655370799473,
     "user": {
      "displayName": "E. R.",
      "userId": "08172683547117167723"
     },
     "user_tz": -120
    },
    "id": "7g7nvQLPxjQb"
   },
   "outputs": [],
   "source": [
    "# hdf5 files using h5py\n",
    "train_file = f'train_KNeighborsClassifier.hdf5'\n",
    "query_file = f'query_KNeighborsClassifier.hdf5'\n",
    "\n",
    "with h5py.File(os.path.join(dataset_path, f\"{train_file}\"), 'w') as f:\n",
    "    f.create_dataset(\"X\", data=X_train)\n",
    "    f.create_dataset(\"y\",data=y_train)\n",
    "\n",
    "with h5py.File(os.path.join(dataset_path, f\"{query_file}\"), 'w') as f:\n",
    "    f.create_dataset(\"X\", data=X_query)"
   ]
  },
  {
   "cell_type": "markdown",
   "metadata": {
    "id": "dSm9Qw5hcpf8"
   },
   "source": [
    "## Scikit-Learn\n"
   ]
  },
  {
   "cell_type": "code",
   "execution_count": null,
   "metadata": {
    "colab": {
     "base_uri": "https://localhost:8080/"
    },
    "executionInfo": {
     "elapsed": 7,
     "status": "ok",
     "timestamp": 1655370804087,
     "user": {
      "displayName": "E. R.",
      "userId": "08172683547117167723"
     },
     "user_tz": -120
    },
    "id": "Snfeo9fycUIr",
    "outputId": "fc0a46df-9b42-418b-b3b4-83145d9f77a1"
   },
   "outputs": [],
   "source": [
    "nn_sk = KNeighborsClassifier_sk(n_neighbors=2)\n",
    "\n",
    "nn_sk.fit(X_train, y_train)\n",
    "nn_sk.predict(X_query)"
   ]
  },
  {
   "cell_type": "markdown",
   "metadata": {
    "id": "CmfLQxuFdacK"
   },
   "source": [
    "## SIMBSIG\n",
    "### Using numpy arrays and CPU only\n",
    "SIMBSIG can be used very similar to scikit-learn. In an existing workflow using scikit-learn, which may be on the verge of exceeding runtime or memory requirements, this allows a seamless transition to SIMBSIG.\n"
   ]
  },
  {
   "cell_type": "code",
   "execution_count": null,
   "metadata": {
    "colab": {
     "base_uri": "https://localhost:8080/"
    },
    "executionInfo": {
     "elapsed": 16,
     "status": "ok",
     "timestamp": 1655370808260,
     "user": {
      "displayName": "E. R.",
      "userId": "08172683547117167723"
     },
     "user_tz": -120
    },
    "id": "zXaewA5zdc5_",
    "outputId": "cf86bbc6-2e1c-4e71-f960-8ac8f1a15321"
   },
   "outputs": [],
   "source": [
    "nn = KNeighborsClassifier(n_neighbors=2, verbose=False)\n",
    "\n",
    "nn.fit(X_train, y_train)\n",
    "nn.predict(X_query)"
   ]
  },
  {
   "cell_type": "markdown",
   "metadata": {
    "id": "zY76CARJd8ay"
   },
   "source": [
    "### Using hdf5 files and CPU only\n",
    "If saving the entire data at once in the computer memory using numpy arrays is not reasonable anymore, the hdf5 file format can help. SIMBSIG can use data in hdf5 files, by setting the `mode` argument to `cpu`"
   ]
  },
  {
   "cell_type": "code",
   "execution_count": null,
   "metadata": {
    "colab": {
     "base_uri": "https://localhost:8080/"
    },
    "executionInfo": {
     "elapsed": 1293,
     "status": "ok",
     "timestamp": 1655370811949,
     "user": {
      "displayName": "E. R.",
      "userId": "08172683547117167723"
     },
     "user_tz": -120
    },
    "id": "dwTd5Zx7eDQL",
    "outputId": "b121875e-3e07-4936-a44a-c549394480c5"
   },
   "outputs": [],
   "source": [
    "nn_hdf5 = KNeighborsClassifier(n_neighbors=2, mode='hdf5', verbose=False)\n",
    "\n",
    "# open the hdf5 file for use\n",
    "train_data = h5py.File(os.path.join(dataset_path, train_file), 'r')\n",
    "query_data = h5py.File(os.path.join(dataset_path, query_file))\n",
    "\n",
    "nn_hdf5.fit(train_data)\n",
    "pred = nn_hdf5.predict(query_data)\n",
    "\n",
    "# close hdf5 file\n",
    "train_data.close()\n",
    "query_data.close()\n",
    "\n",
    "pred"
   ]
  },
  {
   "cell_type": "markdown",
   "metadata": {
    "id": "JaQ8U_5NgSFu"
   },
   "source": [
    "## Using GPU acceleration\n",
    "If data gets big, the execution time becomes an issue. SIMBSIG features GPU acceleration, by setting the `device` argument to `gpu`. This works with both inputs - numpy arrays and hdf5 files.\n",
    "<font color='red'> Be aware: This only runs without error if a GPU is available! </font>"
   ]
  },
  {
   "cell_type": "code",
   "execution_count": null,
   "metadata": {
    "colab": {
     "base_uri": "https://localhost:8080/"
    },
    "executionInfo": {
     "elapsed": 12221,
     "status": "ok",
     "timestamp": 1655370829327,
     "user": {
      "displayName": "E. R.",
      "userId": "08172683547117167723"
     },
     "user_tz": -120
    },
    "id": "tXezDGmtgOuB",
    "outputId": "0e4f29eb-93d9-4a3a-e4c2-2266dc5f541d"
   },
   "outputs": [],
   "source": [
    "nn_hdf5 = KNeighborsClassifier(n_neighbors=2, mode='hdf5', device='gpu', verbose=False)\n",
    "\n",
    "# open the hdf5 file for use\n",
    "train_data = h5py.File(os.path.join(dataset_path, train_file), 'r')\n",
    "query_data = h5py.File(os.path.join(dataset_path, query_file))\n",
    "\n",
    "nn_hdf5.fit(train_data)\n",
    "pred = nn_hdf5.predict(query_data)\n",
    "\n",
    "# close hdf5 file\n",
    "train_data.close()\n",
    "query_data.close()\n",
    "\n",
    "pred"
   ]
  },
  {
   "cell_type": "code",
   "execution_count": null,
   "metadata": {},
   "outputs": [],
   "source": []
  }
 ],
 "metadata": {
  "accelerator": "GPU",
  "colab": {
   "authorship_tag": "ABX9TyNH7VUtZXBPHb5nvHlgI1m3",
   "collapsed_sections": [],
   "name": "KNeighborsClassifier_Demo.ipynb",
   "provenance": [
    {
     "file_id": "1qqv5ubojhabGvbhLvd8foNpnNMuCxM9K",
     "timestamp": 1655367237990
    }
   ]
  },
  "gpuClass": "standard",
  "kernelspec": {
   "display_name": "Python 3 (ipykernel)",
   "language": "python",
   "name": "python3"
  },
  "language_info": {
   "codemirror_mode": {
    "name": "ipython",
    "version": 3
   },
   "file_extension": ".py",
   "mimetype": "text/x-python",
   "name": "python",
   "nbconvert_exporter": "python",
   "pygments_lexer": "ipython3",
   "version": "3.8.8"
  }
 },
 "nbformat": 4,
 "nbformat_minor": 1
}
