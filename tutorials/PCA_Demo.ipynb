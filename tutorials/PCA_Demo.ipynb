{
 "cells": [
  {
   "cell_type": "markdown",
   "metadata": {
    "id": "KdMO6zbMbIcB"
   },
   "source": [
    "# PCA Demo\n",
    "This demo illustrates how SIMBSIG can be used for Principal Component Analysis (PCA), and how the use compares to scikit-learn. "
   ]
  },
  {
   "cell_type": "code",
   "execution_count": null,
   "metadata": {},
   "outputs": [],
   "source": [
    "!pip install simbsig"
   ]
  },
  {
   "cell_type": "code",
   "execution_count": null,
   "metadata": {
    "executionInfo": {
     "elapsed": 389,
     "status": "ok",
     "timestamp": 1655374792088,
     "user": {
      "displayName": "E. R.",
      "userId": "08172683547117167723"
     },
     "user_tz": -120
    },
    "id": "7AbLEIDAaoBZ"
   },
   "outputs": [],
   "source": [
    "from simbsig.decomposition import PCA\n",
    "from sklearn.decomposition import PCA as PCA_sk\n",
    "import h5py as h5py\n",
    "import numpy as np"
   ]
  },
  {
   "cell_type": "markdown",
   "metadata": {
    "id": "mN436qeJaqbP"
   },
   "source": [
    "## Set Parameters"
   ]
  },
  {
   "cell_type": "code",
   "execution_count": null,
   "metadata": {
    "executionInfo": {
     "elapsed": 27,
     "status": "ok",
     "timestamp": 1655374792092,
     "user": {
      "displayName": "E. R.",
      "userId": "08172683547117167723"
     },
     "user_tz": -120
    },
    "id": "YhjxgUO_b_Ib"
   },
   "outputs": [],
   "source": [
    "np.random.seed(98)\n",
    "n_samples = 20\n",
    "n_dim = 3"
   ]
  },
  {
   "cell_type": "markdown",
   "metadata": {
    "id": "fInMHdVicL73"
   },
   "source": [
    "## Create Toy Data\n",
    "### numpy arrays"
   ]
  },
  {
   "cell_type": "code",
   "execution_count": null,
   "metadata": {
    "executionInfo": {
     "elapsed": 27,
     "status": "ok",
     "timestamp": 1655374792095,
     "user": {
      "displayName": "E. R.",
      "userId": "08172683547117167723"
     },
     "user_tz": -120
    },
    "id": "JnsKWphqcQDd"
   },
   "outputs": [],
   "source": [
    "# numpy arrays\n",
    "X = np.random.uniform(low=-5, high=5, size=(n_samples, n_dim))"
   ]
  },
  {
   "cell_type": "markdown",
   "metadata": {
    "id": "_fXkBXPt6TFa"
   },
   "source": [
    "### hdf5 files\n",
    "If you work from your computer, you can execute the statement below:\n",
    "Of course you can also store the data in a directory more suitable to you."
   ]
  },
  {
   "cell_type": "code",
   "execution_count": null,
   "metadata": {},
   "outputs": [],
   "source": [
    "# when working from your computer, your disk can be used to save and read data\n",
    "import os\n",
    "dataset_path = os.path.dirname(os.path.realpath(\"__file__\"))"
   ]
  },
  {
   "cell_type": "code",
   "execution_count": null,
   "metadata": {
    "executionInfo": {
     "elapsed": 20,
     "status": "ok",
     "timestamp": 1655374794167,
     "user": {
      "displayName": "E. R.",
      "userId": "08172683547117167723"
     },
     "user_tz": -120
    },
    "id": "_6H8mHSe6YSw"
   },
   "outputs": [],
   "source": [
    "# hdf5 files using h5py\n",
    "X_file = f'train_PCA.hdf5'\n",
    "\n",
    "with h5py.File(os.path.join(dataset_path, f\"{X_file}\"), 'w') as f:\n",
    "    f.create_dataset(\"X\", data=X)"
   ]
  },
  {
   "cell_type": "markdown",
   "metadata": {
    "id": "dSm9Qw5hcpf8"
   },
   "source": [
    "## Scikit-learn\n"
   ]
  },
  {
   "cell_type": "code",
   "execution_count": null,
   "metadata": {
    "colab": {
     "base_uri": "https://localhost:8080/"
    },
    "executionInfo": {
     "elapsed": 19,
     "status": "ok",
     "timestamp": 1655374794168,
     "user": {
      "displayName": "E. R.",
      "userId": "08172683547117167723"
     },
     "user_tz": -120
    },
    "id": "Snfeo9fycUIr",
    "outputId": "3dca27a9-d317-430c-ec36-0b1cc74f2a71"
   },
   "outputs": [],
   "source": [
    "pca_sk = PCA_sk(n_components=2)\n",
    "\n",
    "pca_sk.fit(X)\n",
    "pca_sk.transform(X)"
   ]
  },
  {
   "cell_type": "markdown",
   "metadata": {
    "id": "CmfLQxuFdacK"
   },
   "source": [
    "## SIMBSIG\n",
    "### Using numpy arrays and CPU only\n",
    "SIMBSIG can be used very similar to scikit-learn. In an existing workflow using scikit-learn, which may be on the verge of exceeding runtime or memory requirements, this allows a seamless transition to SIMBSIG. Notice that when using different methods for PCA, the principal components may have a different sign.\n"
   ]
  },
  {
   "cell_type": "code",
   "execution_count": null,
   "metadata": {
    "colab": {
     "base_uri": "https://localhost:8080/"
    },
    "executionInfo": {
     "elapsed": 465,
     "status": "ok",
     "timestamp": 1655374794617,
     "user": {
      "displayName": "E. R.",
      "userId": "08172683547117167723"
     },
     "user_tz": -120
    },
    "id": "zXaewA5zdc5_",
    "outputId": "d40bb4bf-3d09-4bc1-db08-8e787edac52b"
   },
   "outputs": [],
   "source": [
    "pca = PCA(n_components=2, verbose=False)\n",
    "\n",
    "pca.fit(X)\n",
    "pca.transform(X)"
   ]
  },
  {
   "cell_type": "markdown",
   "metadata": {
    "id": "zY76CARJd8ay"
   },
   "source": [
    "### Using hdf5 files and CPU only\n",
    "If saving the entire data at once in the computer memory using numpy arrays is not reasonable anymore, the hdf5 file format can help. SIMBSIG can use data in hdf5 files, by setting the `mode` argument to `cpu`"
   ]
  },
  {
   "cell_type": "code",
   "execution_count": null,
   "metadata": {
    "colab": {
     "base_uri": "https://localhost:8080/"
    },
    "executionInfo": {
     "elapsed": 48,
     "status": "ok",
     "timestamp": 1655374794620,
     "user": {
      "displayName": "E. R.",
      "userId": "08172683547117167723"
     },
     "user_tz": -120
    },
    "id": "dwTd5Zx7eDQL",
    "outputId": "dc6db398-a1ef-4f54-9491-b1c21a48ca50",
    "scrolled": true
   },
   "outputs": [],
   "source": [
    "pca_hdf5 = PCA(n_components=2, mode='hdf5', verbose=False)\n",
    "\n",
    "# open the hdf5 file for use\n",
    "X_data = h5py.File(os.path.join(dataset_path, X_file), 'r')\n",
    "\n",
    "pca_hdf5.fit(X_data)\n",
    "trafo = pca_hdf5.transform(X_data)\n",
    "\n",
    "# close hdf5 file\n",
    "X_data.close()\n",
    "\n",
    "trafo"
   ]
  },
  {
   "cell_type": "markdown",
   "metadata": {
    "id": "JaQ8U_5NgSFu"
   },
   "source": [
    "### Using GPU acceleration\n",
    "If data gets big, the execution time becomes an issue. SIMBSIG features GPU acceleration, by setting the `device` argument to `gpu`. This works with both inputs, numpy arrays and hdf5 files. <font color='red'> Be aware: This only runs without error if a GPU is available! </font>"
   ]
  },
  {
   "cell_type": "code",
   "execution_count": null,
   "metadata": {
    "colab": {
     "base_uri": "https://localhost:8080/"
    },
    "executionInfo": {
     "elapsed": 5996,
     "status": "ok",
     "timestamp": 1655374800602,
     "user": {
      "displayName": "E. R.",
      "userId": "08172683547117167723"
     },
     "user_tz": -120
    },
    "id": "tXezDGmtgOuB",
    "outputId": "3898b8ec-3f8d-4959-b548-e2b50206db42"
   },
   "outputs": [],
   "source": [
    "pca_hdf5 = PCA(n_components=2, mode='hdf5', device='gpu', verbose=False)\n",
    "\n",
    "# open the hdf5 file for use\n",
    "X_data = h5py.File(os.path.join(dataset_path, X_file), 'r')\n",
    "\n",
    "pca_hdf5.fit(X_data)\n",
    "trafo = pca_hdf5.transform(X_data)\n",
    "\n",
    "# close hdf5 file\n",
    "X_data.close()\n",
    "\n",
    "trafo"
   ]
  },
  {
   "cell_type": "code",
   "execution_count": null,
   "metadata": {},
   "outputs": [],
   "source": []
  }
 ],
 "metadata": {
  "accelerator": "GPU",
  "colab": {
   "authorship_tag": "ABX9TyNumSqd4jLD9PAQlirnHX9l",
   "collapsed_sections": [],
   "name": "PCA_Demo.ipynb",
   "provenance": [
    {
     "file_id": "1qqv5ubojhabGvbhLvd8foNpnNMuCxM9K",
     "timestamp": 1655368393627
    }
   ]
  },
  "gpuClass": "standard",
  "kernelspec": {
   "display_name": "Python 3 (ipykernel)",
   "language": "python",
   "name": "python3"
  },
  "language_info": {
   "codemirror_mode": {
    "name": "ipython",
    "version": 3
   },
   "file_extension": ".py",
   "mimetype": "text/x-python",
   "name": "python",
   "nbconvert_exporter": "python",
   "pygments_lexer": "ipython3",
   "version": "3.8.8"
  }
 },
 "nbformat": 4,
 "nbformat_minor": 1
}
